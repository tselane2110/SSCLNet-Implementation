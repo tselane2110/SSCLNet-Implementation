{
  "nbformat": 4,
  "nbformat_minor": 0,
  "metadata": {
    "colab": {
      "provenance": [],
      "authorship_tag": "ABX9TyP8bssHWwlW9c95NCqIRqND",
      "include_colab_link": true
    },
    "kernelspec": {
      "name": "python3",
      "display_name": "Python 3"
    },
    "language_info": {
      "name": "python"
    }
  },
  "cells": [
    {
      "cell_type": "markdown",
      "metadata": {
        "id": "view-in-github",
        "colab_type": "text"
      },
      "source": [
        "<a href=\"https://colab.research.google.com/github/tselane2110/SSCLNet-Implementation/blob/main/module-based-implementation.ipynb\" target=\"_parent\"><img src=\"https://colab.research.google.com/assets/colab-badge.svg\" alt=\"Open In Colab\"/></a>"
      ]
    },
    {
      "cell_type": "code",
      "execution_count": 1,
      "metadata": {
        "id": "sbIIjUI3Nd8z",
        "colab": {
          "base_uri": "https://localhost:8080/"
        },
        "outputId": "7c619adb-0c0c-423c-f239-7f2e4a7aef36"
      },
      "outputs": [
        {
          "output_type": "stream",
          "name": "stdout",
          "text": [
            "Cloning into 'SSCLNet-Implementation'...\n",
            "remote: Enumerating objects: 105, done.\u001b[K\n",
            "remote: Counting objects: 100% (105/105), done.\u001b[K\n",
            "remote: Compressing objects: 100% (91/91), done.\u001b[K\n",
            "remote: Total 105 (delta 49), reused 34 (delta 10), pack-reused 0 (from 0)\u001b[K\n",
            "Receiving objects: 100% (105/105), 143.10 KiB | 5.11 MiB/s, done.\n",
            "Resolving deltas: 100% (49/49), done.\n"
          ]
        }
      ],
      "source": [
        "!git clone https://github.com/tselane2110/SSCLNet-Implementation"
      ]
    },
    {
      "cell_type": "code",
      "source": [
        "%cd /content/SSCLNet-Implementation"
      ],
      "metadata": {
        "colab": {
          "base_uri": "https://localhost:8080/"
        },
        "id": "VDBJRkIFBIt0",
        "outputId": "34990d81-ff1d-4808-bb93-bf3a064f3739"
      },
      "execution_count": 3,
      "outputs": [
        {
          "output_type": "stream",
          "name": "stdout",
          "text": [
            "/content/SSCLNet-Implementation\n"
          ]
        }
      ]
    },
    {
      "cell_type": "code",
      "source": [
        "import dataset"
      ],
      "metadata": {
        "id": "Ks6yLvOFN1Fn"
      },
      "execution_count": 4,
      "outputs": []
    },
    {
      "cell_type": "code",
      "source": [
        "dataset.load_data(\"https://drive.google.com/file/d/1QI9_a1qjLyKOsj8IOFdRAZVOGs3W51jL/view?usp=drive_link\")"
      ],
      "metadata": {
        "colab": {
          "base_uri": "https://localhost:8080/",
          "height": 194
        },
        "id": "gSSgcKkYBAvF",
        "outputId": "142bf529-f974-42a6-dea8-04bedc75bfb6"
      },
      "execution_count": 6,
      "outputs": [
        {
          "output_type": "stream",
          "name": "stdout",
          "text": [
            "Downloading dataset...\n"
          ]
        },
        {
          "output_type": "stream",
          "name": "stderr",
          "text": [
            "Downloading...\n",
            "From (original): https://drive.google.com/uc?id=1QI9_a1qjLyKOsj8IOFdRAZVOGs3W51jL\n",
            "From (redirected): https://drive.google.com/uc?id=1QI9_a1qjLyKOsj8IOFdRAZVOGs3W51jL&confirm=t&uuid=0333eb9c-3b49-48fe-a889-22e3cf4bdc06\n",
            "To: /content/dataset.zip\n",
            "100%|██████████| 209M/209M [00:02<00:00, 96.1MB/s]\n"
          ]
        },
        {
          "output_type": "stream",
          "name": "stdout",
          "text": [
            "Extracting dataset...\n",
            "Dataset ready at: /content/\n"
          ]
        },
        {
          "output_type": "execute_result",
          "data": {
            "text/plain": [
              "'/content/'"
            ],
            "application/vnd.google.colaboratory.intrinsic+json": {
              "type": "string"
            }
          },
          "metadata": {},
          "execution_count": 6
        }
      ]
    },
    {
      "cell_type": "code",
      "source": [
        "dataset.split_data_disjoint_pretrain(\"/content/Dataset-Brain-MRI\", \"/content/splitted-dataset\")"
      ],
      "metadata": {
        "colab": {
          "base_uri": "https://localhost:8080/"
        },
        "id": "MzkojWZpBffN",
        "outputId": "9f0812fb-b292-4514-c378-984a5481b3be"
      },
      "execution_count": 7,
      "outputs": [
        {
          "output_type": "stream",
          "name": "stdout",
          "text": [
            "Starting DISJOINT dataset splitting (70% pretrain, 20% train, 10% test)...\n",
            "Input directory: /content/Dataset-Brain-MRI\n",
            "Output directory: /content/splitted-dataset\n",
            "Created: /content/splitted-dataset/pretrain\n",
            "Created: /content/splitted-dataset/train/2-class/yes\n",
            "Created: /content/splitted-dataset/train/2-class/no\n",
            "Created: /content/splitted-dataset/train/5-class/Glioblastoma\n",
            "Created: /content/splitted-dataset/train/5-class/glioma_tumor\n",
            "Created: /content/splitted-dataset/train/5-class/meningioma_tumor\n",
            "Created: /content/splitted-dataset/train/5-class/no_tumor\n",
            "Created: /content/splitted-dataset/train/5-class/pituitary_tumor\n",
            "Created: /content/splitted-dataset/test/2-class/yes\n",
            "Created: /content/splitted-dataset/test/2-class/no\n",
            "Created: /content/splitted-dataset/test/5-class/Glioblastoma\n",
            "Created: /content/splitted-dataset/test/5-class/glioma_tumor\n",
            "Created: /content/splitted-dataset/test/5-class/meningioma_tumor\n",
            "Created: /content/splitted-dataset/test/5-class/no_tumor\n",
            "Created: /content/splitted-dataset/test/5-class/pituitary_tumor\n",
            "\n",
            "Total images collected: 6763\n",
            "\n",
            "Copying files...\n",
            "\n",
            "=== SPLITTING COMPLETED ===\n",
            "Pre-train: 4734 images (70% of total)\n",
            "Train: 1352 images (20% of total)\n",
            "Test: 677 images (10% of total)\n",
            "Total: 6763 images\n",
            "\n",
            "Final structure:\n",
            "/content/splitted-dataset/\n",
            "├── pretrain/          # 70% of ALL data (no labels needed)\n",
            "├── train/\n",
            "│   ├── 2-class/       # 20% of original 2-class data\n",
            "│   │   ├── yes/\n",
            "│   │   └── no/\n",
            "│   └── 5-class/       # 20% of original 5-class data\n",
            "│       ├── Glioblastoma/\n",
            "│       ├── glioma_tumor/\n",
            "│       ├── meningioma_tumor/\n",
            "│       ├── no_tumor/\n",
            "│       └── pituitary_tumor/\n",
            "└── test/\n",
            "    ├── 2-class/       # 10% of original 2-class data\n",
            "    │   ├── yes/\n",
            "    │   └── no/\n",
            "    └── 5-class/       # 10% of original 5-class data\n",
            "        ├── Glioblastoma/\n",
            "        ├── glioma_tumor/\n",
            "        ├── meningioma_tumor/\n",
            "        ├── no_tumor/\n",
            "        └── pituitary_tumor/\n"
          ]
        }
      ]
    },
    {
      "cell_type": "code",
      "source": [
        "dataset.preprocess_split_data(\"/content/splitted-dataset\", \"/content/Preprocessed-splitted-data\")"
      ],
      "metadata": {
        "colab": {
          "base_uri": "https://localhost:8080/"
        },
        "id": "8FCmgjjJB7rD",
        "outputId": "baefd080-eaee-415c-f64a-37cac89c2e8e"
      },
      "execution_count": 9,
      "outputs": [
        {
          "output_type": "stream",
          "name": "stdout",
          "text": [
            "Preprocessing split dataset with new structure...\n",
            "Input path: /content/splitted-dataset\n",
            "Output path: /content/Preprocessed-splitted-data\n",
            "\n",
            "Processing pretrain folder...\n",
            "  Pretrain: 4556 images processed\n",
            "\n",
            "Processing train folder...\n",
            "  Train/2-class/yes: 40 images processed\n",
            "  Train/2-class/no: 25 images processed\n",
            "  Train/5-class/Glioblastoma: 194 images processed\n",
            "  Train/5-class/glioma_tumor: 282 images processed\n",
            "  Train/5-class/meningioma_tumor: 330 images processed\n",
            "  Train/5-class/no_tumor: 193 images processed\n",
            "  Train/5-class/pituitary_tumor: 288 images processed\n",
            "\n",
            "Processing test folder...\n",
            "  Test/2-class/yes: 14 images processed\n",
            "  Test/2-class/no: 8 images processed\n",
            "  Test/5-class/Glioblastoma: 90 images processed\n",
            "  Test/5-class/glioma_tumor: 149 images processed\n",
            "  Test/5-class/meningioma_tumor: 163 images processed\n",
            "  Test/5-class/no_tumor: 95 images processed\n",
            "  Test/5-class/pituitary_tumor: 158 images processed\n",
            "\n",
            "=== PREPROCESSING COMPLETED ===\n",
            "Total images successfully processed: 6585\n",
            "Total errors: 0\n",
            "Preprocessed dataset saved to: /content/Preprocessed-splitted-data\n",
            "\n",
            "Final structure:\n",
            "/content/Preprocessed-splitted-data/\n",
            "├── pretrain/          # 70% of ALL data (preprocessed, no labels)\n",
            "├── train/\n",
            "│   ├── 2-class/       # 20% of 2-class data (preprocessed)\n",
            "│   │   ├── yes/\n",
            "│   │   └── no/\n",
            "│   └── 5-class/       # 20% of 5-class data (preprocessed)\n",
            "│       ├── Glioblastoma/\n",
            "│       ├── glioma_tumor/\n",
            "│       ├── meningioma_tumor/\n",
            "│       ├── no_tumor/\n",
            "│       └── pituitary_tumor/\n",
            "└── test/\n",
            "    ├── 2-class/       # 10% of 2-class data (preprocessed)\n",
            "    │   ├── yes/\n",
            "    │   └── no/\n",
            "    └── 5-class/       # 10% of 5-class data (preprocessed)\n",
            "        ├── Glioblastoma/\n",
            "        ├── glioma_tumor/\n",
            "        ├── meningioma_tumor/\n",
            "        ├── no_tumor/\n",
            "        └── pituitary_tumor/\n"
          ]
        }
      ]
    },
    {
      "cell_type": "code",
      "source": [
        "!zip -r \"/content/preprocessed_splitted_data.zip\" \"/content/Preprocessed-splitted-data\""
      ],
      "metadata": {
        "id": "kzOnki8CCJnU"
      },
      "execution_count": null,
      "outputs": []
    },
    {
      "cell_type": "markdown",
      "source": [
        "* I downloaded the `preprocessed_splitted_data.zip` file manually and uploaded it to the gdrive folder."
      ],
      "metadata": {
        "id": "J7J_owlgIFz8"
      }
    },
    {
      "cell_type": "code",
      "source": [
        "!zip -r \"/content/splitted_data.zip\" \"/content/splitted-dataset\""
      ],
      "metadata": {
        "id": "Vo2o41JLH2k_"
      },
      "execution_count": null,
      "outputs": []
    },
    {
      "cell_type": "markdown",
      "source": [
        "* I downloaded the `splitted_data.zip` file manually and uploaded it to the gdrive folder."
      ],
      "metadata": {
        "id": "KRuhcRMkIxMN"
      }
    },
    {
      "cell_type": "code",
      "source": [],
      "metadata": {
        "id": "nv_YUV2GIui8"
      },
      "execution_count": null,
      "outputs": []
    }
  ]
}