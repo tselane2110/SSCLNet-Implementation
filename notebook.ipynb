{
  "nbformat": 4,
  "nbformat_minor": 0,
  "metadata": {
    "colab": {
      "provenance": [],
      "include_colab_link": true
    },
    "kernelspec": {
      "name": "python3",
      "display_name": "Python 3"
    },
    "language_info": {
      "name": "python"
    }
  },
  "cells": [
    {
      "cell_type": "markdown",
      "metadata": {
        "id": "view-in-github",
        "colab_type": "text"
      },
      "source": [
        "<a href=\"https://colab.research.google.com/github/tselane2110/SSCLNet-Implementation/blob/main/notebook.ipynb\" target=\"_parent\"><img src=\"https://colab.research.google.com/assets/colab-badge.svg\" alt=\"Open In Colab\"/></a>"
      ]
    },
    {
      "cell_type": "code",
      "source": [
        "from matplotlib import pyplot as plt\n",
        "import seaborn as sns"
      ],
      "metadata": {
        "id": "sesQrg8OBLl2"
      },
      "execution_count": 1,
      "outputs": []
    },
    {
      "cell_type": "markdown",
      "source": [
        "## Import Dataset"
      ],
      "metadata": {
        "id": "oRNP1p9Ib2pX"
      }
    },
    {
      "cell_type": "code",
      "execution_count": 2,
      "metadata": {
        "id": "Xfl_x-5oGEwq",
        "colab": {
          "base_uri": "https://localhost:8080/"
        },
        "outputId": "33b5cb28-8cb4-4488-a426-bd2dc966917c"
      },
      "outputs": [
        {
          "output_type": "stream",
          "name": "stdout",
          "text": [
            "Using Colab cache for faster access to the 'brain-tumor-classification-mri' dataset.\n",
            "Path to dataset files: /kaggle/input/brain-tumor-classification-mri\n"
          ]
        }
      ],
      "source": [
        "import kagglehub\n",
        "\n",
        "# Download SARTAJ Dataset\n",
        "ds_4class_path = kagglehub.dataset_download(\"sartajbhuvaji/brain-tumor-classification-mri\")\n",
        "\n",
        "print(\"Path to dataset files:\", ds_4class_path)"
      ]
    },
    {
      "cell_type": "code",
      "source": [
        "# Download latest version\n",
        "ds_2class_path = kagglehub.dataset_download(\"navoneel/brain-mri-images-for-brain-tumor-detection\")\n",
        "\n",
        "print(\"Path to dataset files:\", ds_2class_path)"
      ],
      "metadata": {
        "colab": {
          "base_uri": "https://localhost:8080/"
        },
        "id": "wHNbwvttd70C",
        "outputId": "39b82fad-aacc-4a74-f2e5-f51fb1c4d120"
      },
      "execution_count": 3,
      "outputs": [
        {
          "output_type": "stream",
          "name": "stdout",
          "text": [
            "Using Colab cache for faster access to the 'brain-mri-images-for-brain-tumor-detection' dataset.\n",
            "Path to dataset files: /kaggle/input/brain-mri-images-for-brain-tumor-detection\n"
          ]
        }
      ]
    },
    {
      "cell_type": "markdown",
      "source": [
        "## Exploratory Data Analysis"
      ],
      "metadata": {
        "id": "gYjVAUkjceOa"
      }
    },
    {
      "cell_type": "code",
      "source": [
        "\n",
        "import os\n",
        "\n",
        "os.listdir(ds_4class_path)"
      ],
      "metadata": {
        "colab": {
          "base_uri": "https://localhost:8080/"
        },
        "id": "xN5cSu3CcDYL",
        "outputId": "eef45d16-f0b6-4596-fd0d-e4427f908bb2"
      },
      "execution_count": 4,
      "outputs": [
        {
          "output_type": "execute_result",
          "data": {
            "text/plain": [
              "['Training', 'Testing']"
            ]
          },
          "metadata": {},
          "execution_count": 4
        }
      ]
    },
    {
      "cell_type": "code",
      "source": [
        "def count_images(dir_path):\n",
        "    count = 0\n",
        "    for root, dirs , files in os.walk(dir_path):\n",
        "        for file in files:\n",
        "            if file.lower().endswith(('.png', '.jpg', '.jpeg')):\n",
        "                count += 1\n",
        "    return count"
      ],
      "metadata": {
        "id": "YTTd_eYHcjMp"
      },
      "execution_count": 5,
      "outputs": []
    },
    {
      "cell_type": "markdown",
      "source": [
        "### Brain Tumor Dataset with 2 Classes"
      ],
      "metadata": {
        "id": "JX858d0F8iOg"
      }
    },
    {
      "cell_type": "code",
      "metadata": {
        "colab": {
          "base_uri": "https://localhost:8080/",
          "height": 160
        },
        "id": "44a93834",
        "outputId": "139a134f-62ed-4848-da85-29fa131fc134"
      },
      "source": [
        "import pandas as pd\n",
        "\n",
        "yes_dir = os.path.join(ds_2class_path, 'yes')\n",
        "no_dir = os.path.join(ds_2class_path, 'no')\n",
        "\n",
        "# Create dataframe for 2-class dataset\n",
        "data_2class = {'Directory': ['yes', 'no'],\n",
        "               'Number of Images': [count_images(yes_dir), count_images(no_dir)]}\n",
        "df_2class = pd.DataFrame(data_2class)\n",
        "\n",
        "print(\"\\nImage distribution in the 2-class dataset:\")\n",
        "display(df_2class)"
      ],
      "execution_count": 6,
      "outputs": [
        {
          "output_type": "stream",
          "name": "stdout",
          "text": [
            "\n",
            "Image distribution in the 2-class dataset:\n"
          ]
        },
        {
          "output_type": "display_data",
          "data": {
            "text/plain": [
              "  Directory  Number of Images\n",
              "0       yes               155\n",
              "1        no                98"
            ],
            "text/html": [
              "\n",
              "  <div id=\"df-721824fb-a9de-4f1e-a33d-d162b1ebc5f8\" class=\"colab-df-container\">\n",
              "    <div>\n",
              "<style scoped>\n",
              "    .dataframe tbody tr th:only-of-type {\n",
              "        vertical-align: middle;\n",
              "    }\n",
              "\n",
              "    .dataframe tbody tr th {\n",
              "        vertical-align: top;\n",
              "    }\n",
              "\n",
              "    .dataframe thead th {\n",
              "        text-align: right;\n",
              "    }\n",
              "</style>\n",
              "<table border=\"1\" class=\"dataframe\">\n",
              "  <thead>\n",
              "    <tr style=\"text-align: right;\">\n",
              "      <th></th>\n",
              "      <th>Directory</th>\n",
              "      <th>Number of Images</th>\n",
              "    </tr>\n",
              "  </thead>\n",
              "  <tbody>\n",
              "    <tr>\n",
              "      <th>0</th>\n",
              "      <td>yes</td>\n",
              "      <td>155</td>\n",
              "    </tr>\n",
              "    <tr>\n",
              "      <th>1</th>\n",
              "      <td>no</td>\n",
              "      <td>98</td>\n",
              "    </tr>\n",
              "  </tbody>\n",
              "</table>\n",
              "</div>\n",
              "    <div class=\"colab-df-buttons\">\n",
              "\n",
              "  <div class=\"colab-df-container\">\n",
              "    <button class=\"colab-df-convert\" onclick=\"convertToInteractive('df-721824fb-a9de-4f1e-a33d-d162b1ebc5f8')\"\n",
              "            title=\"Convert this dataframe to an interactive table.\"\n",
              "            style=\"display:none;\">\n",
              "\n",
              "  <svg xmlns=\"http://www.w3.org/2000/svg\" height=\"24px\" viewBox=\"0 -960 960 960\">\n",
              "    <path d=\"M120-120v-720h720v720H120Zm60-500h600v-160H180v160Zm220 220h160v-160H400v160Zm0 220h160v-160H400v160ZM180-400h160v-160H180v160Zm440 0h160v-160H620v160ZM180-180h160v-160H180v160Zm440 0h160v-160H620v160Z\"/>\n",
              "  </svg>\n",
              "    </button>\n",
              "\n",
              "  <style>\n",
              "    .colab-df-container {\n",
              "      display:flex;\n",
              "      gap: 12px;\n",
              "    }\n",
              "\n",
              "    .colab-df-convert {\n",
              "      background-color: #E8F0FE;\n",
              "      border: none;\n",
              "      border-radius: 50%;\n",
              "      cursor: pointer;\n",
              "      display: none;\n",
              "      fill: #1967D2;\n",
              "      height: 32px;\n",
              "      padding: 0 0 0 0;\n",
              "      width: 32px;\n",
              "    }\n",
              "\n",
              "    .colab-df-convert:hover {\n",
              "      background-color: #E2EBFA;\n",
              "      box-shadow: 0px 1px 2px rgba(60, 64, 67, 0.3), 0px 1px 3px 1px rgba(60, 64, 67, 0.15);\n",
              "      fill: #174EA6;\n",
              "    }\n",
              "\n",
              "    .colab-df-buttons div {\n",
              "      margin-bottom: 4px;\n",
              "    }\n",
              "\n",
              "    [theme=dark] .colab-df-convert {\n",
              "      background-color: #3B4455;\n",
              "      fill: #D2E3FC;\n",
              "    }\n",
              "\n",
              "    [theme=dark] .colab-df-convert:hover {\n",
              "      background-color: #434B5C;\n",
              "      box-shadow: 0px 1px 3px 1px rgba(0, 0, 0, 0.15);\n",
              "      filter: drop-shadow(0px 1px 2px rgba(0, 0, 0, 0.3));\n",
              "      fill: #FFFFFF;\n",
              "    }\n",
              "  </style>\n",
              "\n",
              "    <script>\n",
              "      const buttonEl =\n",
              "        document.querySelector('#df-721824fb-a9de-4f1e-a33d-d162b1ebc5f8 button.colab-df-convert');\n",
              "      buttonEl.style.display =\n",
              "        google.colab.kernel.accessAllowed ? 'block' : 'none';\n",
              "\n",
              "      async function convertToInteractive(key) {\n",
              "        const element = document.querySelector('#df-721824fb-a9de-4f1e-a33d-d162b1ebc5f8');\n",
              "        const dataTable =\n",
              "          await google.colab.kernel.invokeFunction('convertToInteractive',\n",
              "                                                    [key], {});\n",
              "        if (!dataTable) return;\n",
              "\n",
              "        const docLinkHtml = 'Like what you see? Visit the ' +\n",
              "          '<a target=\"_blank\" href=https://colab.research.google.com/notebooks/data_table.ipynb>data table notebook</a>'\n",
              "          + ' to learn more about interactive tables.';\n",
              "        element.innerHTML = '';\n",
              "        dataTable['output_type'] = 'display_data';\n",
              "        await google.colab.output.renderOutput(dataTable, element);\n",
              "        const docLink = document.createElement('div');\n",
              "        docLink.innerHTML = docLinkHtml;\n",
              "        element.appendChild(docLink);\n",
              "      }\n",
              "    </script>\n",
              "  </div>\n",
              "\n",
              "\n",
              "    <div id=\"df-edfa085a-7748-4598-87af-1954255cb767\">\n",
              "      <button class=\"colab-df-quickchart\" onclick=\"quickchart('df-edfa085a-7748-4598-87af-1954255cb767')\"\n",
              "                title=\"Suggest charts\"\n",
              "                style=\"display:none;\">\n",
              "\n",
              "<svg xmlns=\"http://www.w3.org/2000/svg\" height=\"24px\"viewBox=\"0 0 24 24\"\n",
              "     width=\"24px\">\n",
              "    <g>\n",
              "        <path d=\"M19 3H5c-1.1 0-2 .9-2 2v14c0 1.1.9 2 2 2h14c1.1 0 2-.9 2-2V5c0-1.1-.9-2-2-2zM9 17H7v-7h2v7zm4 0h-2V7h2v10zm4 0h-2v-4h2v4z\"/>\n",
              "    </g>\n",
              "</svg>\n",
              "      </button>\n",
              "\n",
              "<style>\n",
              "  .colab-df-quickchart {\n",
              "      --bg-color: #E8F0FE;\n",
              "      --fill-color: #1967D2;\n",
              "      --hover-bg-color: #E2EBFA;\n",
              "      --hover-fill-color: #174EA6;\n",
              "      --disabled-fill-color: #AAA;\n",
              "      --disabled-bg-color: #DDD;\n",
              "  }\n",
              "\n",
              "  [theme=dark] .colab-df-quickchart {\n",
              "      --bg-color: #3B4455;\n",
              "      --fill-color: #D2E3FC;\n",
              "      --hover-bg-color: #434B5C;\n",
              "      --hover-fill-color: #FFFFFF;\n",
              "      --disabled-bg-color: #3B4455;\n",
              "      --disabled-fill-color: #666;\n",
              "  }\n",
              "\n",
              "  .colab-df-quickchart {\n",
              "    background-color: var(--bg-color);\n",
              "    border: none;\n",
              "    border-radius: 50%;\n",
              "    cursor: pointer;\n",
              "    display: none;\n",
              "    fill: var(--fill-color);\n",
              "    height: 32px;\n",
              "    padding: 0;\n",
              "    width: 32px;\n",
              "  }\n",
              "\n",
              "  .colab-df-quickchart:hover {\n",
              "    background-color: var(--hover-bg-color);\n",
              "    box-shadow: 0 1px 2px rgba(60, 64, 67, 0.3), 0 1px 3px 1px rgba(60, 64, 67, 0.15);\n",
              "    fill: var(--button-hover-fill-color);\n",
              "  }\n",
              "\n",
              "  .colab-df-quickchart-complete:disabled,\n",
              "  .colab-df-quickchart-complete:disabled:hover {\n",
              "    background-color: var(--disabled-bg-color);\n",
              "    fill: var(--disabled-fill-color);\n",
              "    box-shadow: none;\n",
              "  }\n",
              "\n",
              "  .colab-df-spinner {\n",
              "    border: 2px solid var(--fill-color);\n",
              "    border-color: transparent;\n",
              "    border-bottom-color: var(--fill-color);\n",
              "    animation:\n",
              "      spin 1s steps(1) infinite;\n",
              "  }\n",
              "\n",
              "  @keyframes spin {\n",
              "    0% {\n",
              "      border-color: transparent;\n",
              "      border-bottom-color: var(--fill-color);\n",
              "      border-left-color: var(--fill-color);\n",
              "    }\n",
              "    20% {\n",
              "      border-color: transparent;\n",
              "      border-left-color: var(--fill-color);\n",
              "      border-top-color: var(--fill-color);\n",
              "    }\n",
              "    30% {\n",
              "      border-color: transparent;\n",
              "      border-left-color: var(--fill-color);\n",
              "      border-top-color: var(--fill-color);\n",
              "      border-right-color: var(--fill-color);\n",
              "    }\n",
              "    40% {\n",
              "      border-color: transparent;\n",
              "      border-right-color: var(--fill-color);\n",
              "      border-top-color: var(--fill-color);\n",
              "    }\n",
              "    60% {\n",
              "      border-color: transparent;\n",
              "      border-right-color: var(--fill-color);\n",
              "    }\n",
              "    80% {\n",
              "      border-color: transparent;\n",
              "      border-right-color: var(--fill-color);\n",
              "      border-bottom-color: var(--fill-color);\n",
              "    }\n",
              "    90% {\n",
              "      border-color: transparent;\n",
              "      border-bottom-color: var(--fill-color);\n",
              "    }\n",
              "  }\n",
              "</style>\n",
              "\n",
              "      <script>\n",
              "        async function quickchart(key) {\n",
              "          const quickchartButtonEl =\n",
              "            document.querySelector('#' + key + ' button');\n",
              "          quickchartButtonEl.disabled = true;  // To prevent multiple clicks.\n",
              "          quickchartButtonEl.classList.add('colab-df-spinner');\n",
              "          try {\n",
              "            const charts = await google.colab.kernel.invokeFunction(\n",
              "                'suggestCharts', [key], {});\n",
              "          } catch (error) {\n",
              "            console.error('Error during call to suggestCharts:', error);\n",
              "          }\n",
              "          quickchartButtonEl.classList.remove('colab-df-spinner');\n",
              "          quickchartButtonEl.classList.add('colab-df-quickchart-complete');\n",
              "        }\n",
              "        (() => {\n",
              "          let quickchartButtonEl =\n",
              "            document.querySelector('#df-edfa085a-7748-4598-87af-1954255cb767 button');\n",
              "          quickchartButtonEl.style.display =\n",
              "            google.colab.kernel.accessAllowed ? 'block' : 'none';\n",
              "        })();\n",
              "      </script>\n",
              "    </div>\n",
              "\n",
              "  <div id=\"id_c314ec32-b747-4798-acd6-1882cef69fb7\">\n",
              "    <style>\n",
              "      .colab-df-generate {\n",
              "        background-color: #E8F0FE;\n",
              "        border: none;\n",
              "        border-radius: 50%;\n",
              "        cursor: pointer;\n",
              "        display: none;\n",
              "        fill: #1967D2;\n",
              "        height: 32px;\n",
              "        padding: 0 0 0 0;\n",
              "        width: 32px;\n",
              "      }\n",
              "\n",
              "      .colab-df-generate:hover {\n",
              "        background-color: #E2EBFA;\n",
              "        box-shadow: 0px 1px 2px rgba(60, 64, 67, 0.3), 0px 1px 3px 1px rgba(60, 64, 67, 0.15);\n",
              "        fill: #174EA6;\n",
              "      }\n",
              "\n",
              "      [theme=dark] .colab-df-generate {\n",
              "        background-color: #3B4455;\n",
              "        fill: #D2E3FC;\n",
              "      }\n",
              "\n",
              "      [theme=dark] .colab-df-generate:hover {\n",
              "        background-color: #434B5C;\n",
              "        box-shadow: 0px 1px 3px 1px rgba(0, 0, 0, 0.15);\n",
              "        filter: drop-shadow(0px 1px 2px rgba(0, 0, 0, 0.3));\n",
              "        fill: #FFFFFF;\n",
              "      }\n",
              "    </style>\n",
              "    <button class=\"colab-df-generate\" onclick=\"generateWithVariable('df_2class')\"\n",
              "            title=\"Generate code using this dataframe.\"\n",
              "            style=\"display:none;\">\n",
              "\n",
              "  <svg xmlns=\"http://www.w3.org/2000/svg\" height=\"24px\"viewBox=\"0 0 24 24\"\n",
              "       width=\"24px\">\n",
              "    <path d=\"M7,19H8.4L18.45,9,17,7.55,7,17.6ZM5,21V16.75L18.45,3.32a2,2,0,0,1,2.83,0l1.4,1.43a1.91,1.91,0,0,1,.58,1.4,1.91,1.91,0,0,1-.58,1.4L9.25,21ZM18.45,9,17,7.55Zm-12,3A5.31,5.31,0,0,0,4.9,8.1,5.31,5.31,0,0,0,1,6.5,5.31,5.31,0,0,0,4.9,4.9,5.31,5.31,0,0,0,6.5,1,5.31,5.31,0,0,0,8.1,4.9,5.31,5.31,0,0,0,12,6.5,5.46,5.46,0,0,0,6.5,12Z\"/>\n",
              "  </svg>\n",
              "    </button>\n",
              "    <script>\n",
              "      (() => {\n",
              "      const buttonEl =\n",
              "        document.querySelector('#id_c314ec32-b747-4798-acd6-1882cef69fb7 button.colab-df-generate');\n",
              "      buttonEl.style.display =\n",
              "        google.colab.kernel.accessAllowed ? 'block' : 'none';\n",
              "\n",
              "      buttonEl.onclick = () => {\n",
              "        google.colab.notebook.generateWithVariable('df_2class');\n",
              "      }\n",
              "      })();\n",
              "    </script>\n",
              "  </div>\n",
              "\n",
              "    </div>\n",
              "  </div>\n"
            ],
            "application/vnd.google.colaboratory.intrinsic+json": {
              "type": "dataframe",
              "variable_name": "df_2class",
              "summary": "{\n  \"name\": \"df_2class\",\n  \"rows\": 2,\n  \"fields\": [\n    {\n      \"column\": \"Directory\",\n      \"properties\": {\n        \"dtype\": \"string\",\n        \"num_unique_values\": 2,\n        \"samples\": [\n          \"no\",\n          \"yes\"\n        ],\n        \"semantic_type\": \"\",\n        \"description\": \"\"\n      }\n    },\n    {\n      \"column\": \"Number of Images\",\n      \"properties\": {\n        \"dtype\": \"number\",\n        \"std\": 40,\n        \"min\": 98,\n        \"max\": 155,\n        \"num_unique_values\": 2,\n        \"samples\": [\n          98,\n          155\n        ],\n        \"semantic_type\": \"\",\n        \"description\": \"\"\n      }\n    }\n  ]\n}"
            }
          },
          "metadata": {}
        }
      ]
    },
    {
      "cell_type": "markdown",
      "source": [
        "### Brain Tumor Dataset with 4 Classes"
      ],
      "metadata": {
        "id": "lTEwosWE8vcZ"
      }
    },
    {
      "cell_type": "code",
      "source": [
        "train_dir = os.path.join(ds_4class_path, 'Training')\n",
        "test_dir = os.path.join(ds_4class_path, 'Testing')\n",
        "\n",
        "ds_4class_names = os.listdir(f'{ds_4class_path}/Training')\n",
        "ds_4class_count = []\n",
        "\n",
        "for c in ds_4class_names:\n",
        "  img_count = count_images(os.path.join(train_dir, c)) + count_images(os.path.join(test_dir, c))\n",
        "  ds_4class_count.append(img_count)\n",
        "\n",
        "# Create dataframe for the 4-class dataset\n",
        "data_4class = {'Class': ds_4class_names,\n",
        "               'Number of Images': ds_4class_count}\n",
        "df_4class = pd.DataFrame(data_4class)\n",
        "\n",
        "# Display the dataframe for the first dataset\n",
        "print(\"Image distribution in the 4-class dataset:\")\n",
        "display(df_4class)"
      ],
      "metadata": {
        "colab": {
          "base_uri": "https://localhost:8080/",
          "height": 192
        },
        "id": "uNXRjvsNoEvX",
        "outputId": "0960929c-256e-4610-88b9-936ae8146285"
      },
      "execution_count": 7,
      "outputs": [
        {
          "output_type": "stream",
          "name": "stdout",
          "text": [
            "Image distribution in the 4-class dataset:\n"
          ]
        },
        {
          "output_type": "display_data",
          "data": {
            "text/plain": [
              "              Class  Number of Images\n",
              "0          no_tumor               500\n",
              "1   pituitary_tumor               901\n",
              "2  meningioma_tumor               937\n",
              "3      glioma_tumor               926"
            ],
            "text/html": [
              "\n",
              "  <div id=\"df-4f350456-6ba8-4244-be52-9276ffe98694\" class=\"colab-df-container\">\n",
              "    <div>\n",
              "<style scoped>\n",
              "    .dataframe tbody tr th:only-of-type {\n",
              "        vertical-align: middle;\n",
              "    }\n",
              "\n",
              "    .dataframe tbody tr th {\n",
              "        vertical-align: top;\n",
              "    }\n",
              "\n",
              "    .dataframe thead th {\n",
              "        text-align: right;\n",
              "    }\n",
              "</style>\n",
              "<table border=\"1\" class=\"dataframe\">\n",
              "  <thead>\n",
              "    <tr style=\"text-align: right;\">\n",
              "      <th></th>\n",
              "      <th>Class</th>\n",
              "      <th>Number of Images</th>\n",
              "    </tr>\n",
              "  </thead>\n",
              "  <tbody>\n",
              "    <tr>\n",
              "      <th>0</th>\n",
              "      <td>no_tumor</td>\n",
              "      <td>500</td>\n",
              "    </tr>\n",
              "    <tr>\n",
              "      <th>1</th>\n",
              "      <td>pituitary_tumor</td>\n",
              "      <td>901</td>\n",
              "    </tr>\n",
              "    <tr>\n",
              "      <th>2</th>\n",
              "      <td>meningioma_tumor</td>\n",
              "      <td>937</td>\n",
              "    </tr>\n",
              "    <tr>\n",
              "      <th>3</th>\n",
              "      <td>glioma_tumor</td>\n",
              "      <td>926</td>\n",
              "    </tr>\n",
              "  </tbody>\n",
              "</table>\n",
              "</div>\n",
              "    <div class=\"colab-df-buttons\">\n",
              "\n",
              "  <div class=\"colab-df-container\">\n",
              "    <button class=\"colab-df-convert\" onclick=\"convertToInteractive('df-4f350456-6ba8-4244-be52-9276ffe98694')\"\n",
              "            title=\"Convert this dataframe to an interactive table.\"\n",
              "            style=\"display:none;\">\n",
              "\n",
              "  <svg xmlns=\"http://www.w3.org/2000/svg\" height=\"24px\" viewBox=\"0 -960 960 960\">\n",
              "    <path d=\"M120-120v-720h720v720H120Zm60-500h600v-160H180v160Zm220 220h160v-160H400v160Zm0 220h160v-160H400v160ZM180-400h160v-160H180v160Zm440 0h160v-160H620v160ZM180-180h160v-160H180v160Zm440 0h160v-160H620v160Z\"/>\n",
              "  </svg>\n",
              "    </button>\n",
              "\n",
              "  <style>\n",
              "    .colab-df-container {\n",
              "      display:flex;\n",
              "      gap: 12px;\n",
              "    }\n",
              "\n",
              "    .colab-df-convert {\n",
              "      background-color: #E8F0FE;\n",
              "      border: none;\n",
              "      border-radius: 50%;\n",
              "      cursor: pointer;\n",
              "      display: none;\n",
              "      fill: #1967D2;\n",
              "      height: 32px;\n",
              "      padding: 0 0 0 0;\n",
              "      width: 32px;\n",
              "    }\n",
              "\n",
              "    .colab-df-convert:hover {\n",
              "      background-color: #E2EBFA;\n",
              "      box-shadow: 0px 1px 2px rgba(60, 64, 67, 0.3), 0px 1px 3px 1px rgba(60, 64, 67, 0.15);\n",
              "      fill: #174EA6;\n",
              "    }\n",
              "\n",
              "    .colab-df-buttons div {\n",
              "      margin-bottom: 4px;\n",
              "    }\n",
              "\n",
              "    [theme=dark] .colab-df-convert {\n",
              "      background-color: #3B4455;\n",
              "      fill: #D2E3FC;\n",
              "    }\n",
              "\n",
              "    [theme=dark] .colab-df-convert:hover {\n",
              "      background-color: #434B5C;\n",
              "      box-shadow: 0px 1px 3px 1px rgba(0, 0, 0, 0.15);\n",
              "      filter: drop-shadow(0px 1px 2px rgba(0, 0, 0, 0.3));\n",
              "      fill: #FFFFFF;\n",
              "    }\n",
              "  </style>\n",
              "\n",
              "    <script>\n",
              "      const buttonEl =\n",
              "        document.querySelector('#df-4f350456-6ba8-4244-be52-9276ffe98694 button.colab-df-convert');\n",
              "      buttonEl.style.display =\n",
              "        google.colab.kernel.accessAllowed ? 'block' : 'none';\n",
              "\n",
              "      async function convertToInteractive(key) {\n",
              "        const element = document.querySelector('#df-4f350456-6ba8-4244-be52-9276ffe98694');\n",
              "        const dataTable =\n",
              "          await google.colab.kernel.invokeFunction('convertToInteractive',\n",
              "                                                    [key], {});\n",
              "        if (!dataTable) return;\n",
              "\n",
              "        const docLinkHtml = 'Like what you see? Visit the ' +\n",
              "          '<a target=\"_blank\" href=https://colab.research.google.com/notebooks/data_table.ipynb>data table notebook</a>'\n",
              "          + ' to learn more about interactive tables.';\n",
              "        element.innerHTML = '';\n",
              "        dataTable['output_type'] = 'display_data';\n",
              "        await google.colab.output.renderOutput(dataTable, element);\n",
              "        const docLink = document.createElement('div');\n",
              "        docLink.innerHTML = docLinkHtml;\n",
              "        element.appendChild(docLink);\n",
              "      }\n",
              "    </script>\n",
              "  </div>\n",
              "\n",
              "\n",
              "    <div id=\"df-1dfa5304-3daa-4fa1-a64f-37312fe4cea0\">\n",
              "      <button class=\"colab-df-quickchart\" onclick=\"quickchart('df-1dfa5304-3daa-4fa1-a64f-37312fe4cea0')\"\n",
              "                title=\"Suggest charts\"\n",
              "                style=\"display:none;\">\n",
              "\n",
              "<svg xmlns=\"http://www.w3.org/2000/svg\" height=\"24px\"viewBox=\"0 0 24 24\"\n",
              "     width=\"24px\">\n",
              "    <g>\n",
              "        <path d=\"M19 3H5c-1.1 0-2 .9-2 2v14c0 1.1.9 2 2 2h14c1.1 0 2-.9 2-2V5c0-1.1-.9-2-2-2zM9 17H7v-7h2v7zm4 0h-2V7h2v10zm4 0h-2v-4h2v4z\"/>\n",
              "    </g>\n",
              "</svg>\n",
              "      </button>\n",
              "\n",
              "<style>\n",
              "  .colab-df-quickchart {\n",
              "      --bg-color: #E8F0FE;\n",
              "      --fill-color: #1967D2;\n",
              "      --hover-bg-color: #E2EBFA;\n",
              "      --hover-fill-color: #174EA6;\n",
              "      --disabled-fill-color: #AAA;\n",
              "      --disabled-bg-color: #DDD;\n",
              "  }\n",
              "\n",
              "  [theme=dark] .colab-df-quickchart {\n",
              "      --bg-color: #3B4455;\n",
              "      --fill-color: #D2E3FC;\n",
              "      --hover-bg-color: #434B5C;\n",
              "      --hover-fill-color: #FFFFFF;\n",
              "      --disabled-bg-color: #3B4455;\n",
              "      --disabled-fill-color: #666;\n",
              "  }\n",
              "\n",
              "  .colab-df-quickchart {\n",
              "    background-color: var(--bg-color);\n",
              "    border: none;\n",
              "    border-radius: 50%;\n",
              "    cursor: pointer;\n",
              "    display: none;\n",
              "    fill: var(--fill-color);\n",
              "    height: 32px;\n",
              "    padding: 0;\n",
              "    width: 32px;\n",
              "  }\n",
              "\n",
              "  .colab-df-quickchart:hover {\n",
              "    background-color: var(--hover-bg-color);\n",
              "    box-shadow: 0 1px 2px rgba(60, 64, 67, 0.3), 0 1px 3px 1px rgba(60, 64, 67, 0.15);\n",
              "    fill: var(--button-hover-fill-color);\n",
              "  }\n",
              "\n",
              "  .colab-df-quickchart-complete:disabled,\n",
              "  .colab-df-quickchart-complete:disabled:hover {\n",
              "    background-color: var(--disabled-bg-color);\n",
              "    fill: var(--disabled-fill-color);\n",
              "    box-shadow: none;\n",
              "  }\n",
              "\n",
              "  .colab-df-spinner {\n",
              "    border: 2px solid var(--fill-color);\n",
              "    border-color: transparent;\n",
              "    border-bottom-color: var(--fill-color);\n",
              "    animation:\n",
              "      spin 1s steps(1) infinite;\n",
              "  }\n",
              "\n",
              "  @keyframes spin {\n",
              "    0% {\n",
              "      border-color: transparent;\n",
              "      border-bottom-color: var(--fill-color);\n",
              "      border-left-color: var(--fill-color);\n",
              "    }\n",
              "    20% {\n",
              "      border-color: transparent;\n",
              "      border-left-color: var(--fill-color);\n",
              "      border-top-color: var(--fill-color);\n",
              "    }\n",
              "    30% {\n",
              "      border-color: transparent;\n",
              "      border-left-color: var(--fill-color);\n",
              "      border-top-color: var(--fill-color);\n",
              "      border-right-color: var(--fill-color);\n",
              "    }\n",
              "    40% {\n",
              "      border-color: transparent;\n",
              "      border-right-color: var(--fill-color);\n",
              "      border-top-color: var(--fill-color);\n",
              "    }\n",
              "    60% {\n",
              "      border-color: transparent;\n",
              "      border-right-color: var(--fill-color);\n",
              "    }\n",
              "    80% {\n",
              "      border-color: transparent;\n",
              "      border-right-color: var(--fill-color);\n",
              "      border-bottom-color: var(--fill-color);\n",
              "    }\n",
              "    90% {\n",
              "      border-color: transparent;\n",
              "      border-bottom-color: var(--fill-color);\n",
              "    }\n",
              "  }\n",
              "</style>\n",
              "\n",
              "      <script>\n",
              "        async function quickchart(key) {\n",
              "          const quickchartButtonEl =\n",
              "            document.querySelector('#' + key + ' button');\n",
              "          quickchartButtonEl.disabled = true;  // To prevent multiple clicks.\n",
              "          quickchartButtonEl.classList.add('colab-df-spinner');\n",
              "          try {\n",
              "            const charts = await google.colab.kernel.invokeFunction(\n",
              "                'suggestCharts', [key], {});\n",
              "          } catch (error) {\n",
              "            console.error('Error during call to suggestCharts:', error);\n",
              "          }\n",
              "          quickchartButtonEl.classList.remove('colab-df-spinner');\n",
              "          quickchartButtonEl.classList.add('colab-df-quickchart-complete');\n",
              "        }\n",
              "        (() => {\n",
              "          let quickchartButtonEl =\n",
              "            document.querySelector('#df-1dfa5304-3daa-4fa1-a64f-37312fe4cea0 button');\n",
              "          quickchartButtonEl.style.display =\n",
              "            google.colab.kernel.accessAllowed ? 'block' : 'none';\n",
              "        })();\n",
              "      </script>\n",
              "    </div>\n",
              "\n",
              "  <div id=\"id_31ca5ea5-2f2f-4216-8780-6cd5bb377b9f\">\n",
              "    <style>\n",
              "      .colab-df-generate {\n",
              "        background-color: #E8F0FE;\n",
              "        border: none;\n",
              "        border-radius: 50%;\n",
              "        cursor: pointer;\n",
              "        display: none;\n",
              "        fill: #1967D2;\n",
              "        height: 32px;\n",
              "        padding: 0 0 0 0;\n",
              "        width: 32px;\n",
              "      }\n",
              "\n",
              "      .colab-df-generate:hover {\n",
              "        background-color: #E2EBFA;\n",
              "        box-shadow: 0px 1px 2px rgba(60, 64, 67, 0.3), 0px 1px 3px 1px rgba(60, 64, 67, 0.15);\n",
              "        fill: #174EA6;\n",
              "      }\n",
              "\n",
              "      [theme=dark] .colab-df-generate {\n",
              "        background-color: #3B4455;\n",
              "        fill: #D2E3FC;\n",
              "      }\n",
              "\n",
              "      [theme=dark] .colab-df-generate:hover {\n",
              "        background-color: #434B5C;\n",
              "        box-shadow: 0px 1px 3px 1px rgba(0, 0, 0, 0.15);\n",
              "        filter: drop-shadow(0px 1px 2px rgba(0, 0, 0, 0.3));\n",
              "        fill: #FFFFFF;\n",
              "      }\n",
              "    </style>\n",
              "    <button class=\"colab-df-generate\" onclick=\"generateWithVariable('df_4class')\"\n",
              "            title=\"Generate code using this dataframe.\"\n",
              "            style=\"display:none;\">\n",
              "\n",
              "  <svg xmlns=\"http://www.w3.org/2000/svg\" height=\"24px\"viewBox=\"0 0 24 24\"\n",
              "       width=\"24px\">\n",
              "    <path d=\"M7,19H8.4L18.45,9,17,7.55,7,17.6ZM5,21V16.75L18.45,3.32a2,2,0,0,1,2.83,0l1.4,1.43a1.91,1.91,0,0,1,.58,1.4,1.91,1.91,0,0,1-.58,1.4L9.25,21ZM18.45,9,17,7.55Zm-12,3A5.31,5.31,0,0,0,4.9,8.1,5.31,5.31,0,0,0,1,6.5,5.31,5.31,0,0,0,4.9,4.9,5.31,5.31,0,0,0,6.5,1,5.31,5.31,0,0,0,8.1,4.9,5.31,5.31,0,0,0,12,6.5,5.46,5.46,0,0,0,6.5,12Z\"/>\n",
              "  </svg>\n",
              "    </button>\n",
              "    <script>\n",
              "      (() => {\n",
              "      const buttonEl =\n",
              "        document.querySelector('#id_31ca5ea5-2f2f-4216-8780-6cd5bb377b9f button.colab-df-generate');\n",
              "      buttonEl.style.display =\n",
              "        google.colab.kernel.accessAllowed ? 'block' : 'none';\n",
              "\n",
              "      buttonEl.onclick = () => {\n",
              "        google.colab.notebook.generateWithVariable('df_4class');\n",
              "      }\n",
              "      })();\n",
              "    </script>\n",
              "  </div>\n",
              "\n",
              "    </div>\n",
              "  </div>\n"
            ],
            "application/vnd.google.colaboratory.intrinsic+json": {
              "type": "dataframe",
              "variable_name": "df_4class",
              "summary": "{\n  \"name\": \"df_4class\",\n  \"rows\": 4,\n  \"fields\": [\n    {\n      \"column\": \"Class\",\n      \"properties\": {\n        \"dtype\": \"string\",\n        \"num_unique_values\": 4,\n        \"samples\": [\n          \"pituitary_tumor\",\n          \"glioma_tumor\",\n          \"no_tumor\"\n        ],\n        \"semantic_type\": \"\",\n        \"description\": \"\"\n      }\n    },\n    {\n      \"column\": \"Number of Images\",\n      \"properties\": {\n        \"dtype\": \"number\",\n        \"std\": 211,\n        \"min\": 500,\n        \"max\": 937,\n        \"num_unique_values\": 4,\n        \"samples\": [\n          901,\n          926,\n          500\n        ],\n        \"semantic_type\": \"\",\n        \"description\": \"\"\n      }\n    }\n  ]\n}"
            }
          },
          "metadata": {}
        }
      ]
    },
    {
      "cell_type": "code",
      "metadata": {
        "colab": {
          "base_uri": "https://localhost:8080/",
          "height": 506
        },
        "id": "a52b9c1c",
        "outputId": "5cb74c15-6e82-48ad-a534-cfc7a9a1c8fe"
      },
      "source": [
        "import matplotlib.pyplot as plt\n",
        "import seaborn as sns\n",
        "\n",
        "fig, axes = plt.subplots(1, 2, figsize=(12, 5))\n",
        "\n",
        "# Plot for 4-class dataset\n",
        "sns.barplot(x='Class', y='Number of Images', data=df_4class, ax=axes[0],\n",
        "            hue = 'Class', palette='viridis')\n",
        "axes[0].set_title('4-Class Dataset Distribution')\n",
        "axes[0].tick_params(axis='x', rotation=45)\n",
        "axes[0].spines[['top', 'right',]].set_visible(False)\n",
        "\n",
        "\n",
        "# Plot for 2-class dataset\n",
        "sns.barplot(x='Directory', y='Number of Images', data=df_2class, ax=axes[1],\n",
        "            hue = 'Directory', palette='viridis')\n",
        "axes[1].set_xlabel('Class')\n",
        "axes[1].set_title('2-Class Dataset Distribution')\n",
        "axes[1].spines[['top', 'right',]].set_visible(False)\n",
        "\n",
        "\n",
        "plt.tight_layout()\n",
        "plt.show()"
      ],
      "execution_count": 8,
      "outputs": [
        {
          "output_type": "display_data",
          "data": {
            "text/plain": [
              "<Figure size 1200x500 with 2 Axes>"
            ],
            "image/png": "[encoded data removed]"
          },
          "metadata": {}
        }
      ]
    },
    {
      "cell_type": "markdown",
      "source": [
        "### Observations\n",
        "* 2-Class dataset does not have 5000+ images as listed in the paper. It only has around 250 images.\n",
        "\n"
      ],
      "metadata": {
        "id": "r7Arf7pIY9Dc"
      }
    },
    {
      "cell_type": "markdown",
      "source": [
        "## Data Preprocessing"
      ],
      "metadata": {
        "id": "cODJOVrkYLcS"
      }
    },
    {
      "cell_type": "code",
      "source": [],
      "metadata": {
        "id": "tZjxtJZHYI2t"
      },
      "execution_count": null,
      "outputs": []
    },
    {
      "cell_type": "markdown",
      "source": [
        "## SSCLNET Architecture"
      ],
      "metadata": {
        "id": "xK3nbKMKYCMH"
      }
    },
    {
      "cell_type": "markdown",
      "source": [
        "\n",
        "\n",
        "![ssclnet-architecture.jpg](data:image/jpeg;base64,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)"
      ],
      "metadata": {
        "id": "WXK2B-5OX1m2"
      }
    },
    {
      "cell_type": "markdown",
      "source": [
        "### LFG Block"
      ],
      "metadata": {
        "id": "9TtakrzrYPDm"
      }
    },
    {
      "cell_type": "code",
      "source": [],
      "metadata": {
        "id": "l8SJ5weh97rg"
      },
      "execution_count": 8,
      "outputs": []
    },
    {
      "cell_type": "markdown",
      "source": [
        "### ILCL Block"
      ],
      "metadata": {
        "id": "XssaOjOsYTlL"
      }
    },
    {
      "cell_type": "code",
      "source": [],
      "metadata": {
        "id": "hPfvtMF_YYJu"
      },
      "execution_count": null,
      "outputs": []
    },
    {
      "cell_type": "markdown",
      "source": [
        "### CL Block"
      ],
      "metadata": {
        "id": "e6M3Mt9LYZ-w"
      }
    },
    {
      "cell_type": "code",
      "source": [],
      "metadata": {
        "id": "ntW9_Sq1YdQf"
      },
      "execution_count": null,
      "outputs": []
    }
  ]
}